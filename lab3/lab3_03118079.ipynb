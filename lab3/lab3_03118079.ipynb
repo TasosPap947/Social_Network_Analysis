{
 "cells": [
  {
   "cell_type": "markdown",
   "id": "1f35580e",
   "metadata": {},
   "source": [
    "<html><font size=6><B>3η εργαστηριακή άσκηση</B><BR>\n",
    "    <BR><B>Link prediction - Πρόβλεψη συνδέσμων</B></BR>\n",
    "    </font></html>"
   ]
  },
  {
   "cell_type": "markdown",
   "id": "aa50cbd3",
   "metadata": {},
   "source": [
    "Αναστάσιος Παπαζαφειρόπουλος,     ΑΜ:03118079"
   ]
  },
  {
   "cell_type": "code",
   "execution_count": 1,
   "id": "a714b825",
   "metadata": {},
   "outputs": [],
   "source": [
    "#imports\n",
    "import networkx as nx\n",
    "import pandas as pd\n",
    "import matplotlib.pyplot as plt\n",
    "from sklearn.metrics import precision_score, recall_score, accuracy_score"
   ]
  },
  {
   "cell_type": "markdown",
   "id": "b30af479",
   "metadata": {},
   "source": [
    "<html><font size=4><B>1. Κατασκευή γράφου και προεργασία για την πρόβλεψη συνδέσμων</B></font>\n",
    "    <li><B>1(i).</B> Χρησιμοποιήστε το dataset <a href=\"http://konect.cc/networks/dbpedia-similar/\"> Similarities (DBpedia)</a>, για να κατασκευάσετε τον μη κατευθυνόμενο (undirected) γράφο $G$ <a href=\"https://dl.acm.org/doi/10.1145/2487788.2488173\">[1]</a>,<a href=\"https://link.springer.com/chapter/10.1007/978-3-540-76298-0_52\">[2]</a>. Οι κόμβοι του γράφου αναπαριστούν σελίδες της Wikipedia και οι ακμές σχέση ομοιότητας μεταξύ τους. Στην σελίδα <a href=\"http://konect.cc/networks/dbpedia-similar/\"> KONECT (DBpedia)</a> μπορείτε να βρείτε πληροφορίες για τις ιδιότητες του γράφου.</a><BR>\n",
    "        <B><U>Υπόδειξη:</U></B> Μπορείτε να ελέγξετε προγραμματιστικά αν το dataset περιέχει διπλότυπα των ακμών με την ίδια ή αντίστροφη σειρά (π.χ. ακμές (a,b) και (b,a)), και να λάβετε υπ' όψιν σας αυτήν σας την παρατήρηση, όπου τυχόν χρειαστεί, στην ερώτηση 2.<BR></html>"
   ]
  },
  {
   "cell_type": "code",
   "execution_count": 2,
   "id": "ba2cec47",
   "metadata": {},
   "outputs": [
    {
     "name": "stdout",
     "output_type": "stream",
     "text": [
      "Graph with 430 nodes and 564 edges\n"
     ]
    }
   ],
   "source": [
    "G = nx.read_edgelist(\"out.dbpedia-similar\", comments='%')\n",
    "selfloops = nx.selfloop_edges(G)\n",
    "G.remove_edges_from(selfloops)\n",
    "print(G)"
   ]
  },
  {
   "cell_type": "markdown",
   "id": "4bd79bac",
   "metadata": {},
   "source": [
    " <li><B>1(ii).</B> Εμφανίστε τον αριθμό των κόμβων, τον αριθμό των ακμών, τον μέσο βαθμό των κόμβων και τον αριθμό των συνεκτικών συνιστωσών (connected components) για τον γράφο $G$.</li><BR>"
   ]
  },
  {
   "cell_type": "code",
   "execution_count": 3,
   "id": "95291136",
   "metadata": {},
   "outputs": [],
   "source": [
    "def average_node_degree(Graph):\n",
    "    degrees = degrees = [d for n, d in Graph.degree()]\n",
    "    summ = 0\n",
    "    for degree in degrees:\n",
    "        summ += degree\n",
    "    mean = summ/len(Graph.nodes())\n",
    "    return mean\n",
    "\n",
    "def stats(Graph):\n",
    "    node_count = len(Graph)\n",
    "    edge_count = Graph.size()\n",
    "    average_node_degree_num = average_node_degree(Graph)\n",
    "    connected_components = nx.number_connected_components(Graph)\n",
    "\n",
    "    print(\"Number of Nodes:\\t\\t\" + str(node_count))\n",
    "    print(\"Number of Edges:\\t\\t\" + str(edge_count))\n",
    "    print(\"Average Degree:\\t\\t\" + str(average_node_degree_num))\n",
    "    print(\"Number of Connected Components:\\t\" + str(connected_components))\n",
    "    \n",
    "    return node_count, edge_count, average_node_degree_num, connected_components"
   ]
  },
  {
   "cell_type": "code",
   "execution_count": 4,
   "id": "9277a4e2",
   "metadata": {},
   "outputs": [
    {
     "name": "stdout",
     "output_type": "stream",
     "text": [
      "Initial:\n",
      "Number of Nodes:\t\t430\n",
      "Number of Edges:\t\t564\n",
      "Average Degree:\t\t2.6232558139534885\n",
      "Number of Connected Components:\t95\n"
     ]
    }
   ],
   "source": [
    "print(\"Initial:\")\n",
    "initial_node_count, initial_edge_count, initial_average_node_degree_num, initial_connected_components = stats(G)"
   ]
  },
  {
   "cell_type": "markdown",
   "id": "bf03f6b9",
   "metadata": {},
   "source": [
    "<li><B>1(iii). </B>Υπολογίστε το σύνολο των ασύνδετων ζευγών κόμβων (unconnected pairs) στον γράφο χρησιμοποιώντας τον πίνακα γειτνίασης (adjacency matrix). Δώστε επίσης τον αριθμό τους. Λάβετε υπ' όψιν σας ότι ο γράφος είναι μη κατευθυνόμενος και δεν χρειάζεται να διατρέξετε ολόκληρο τον πίνακα γειτνίασης.</li><BR>"
   ]
  },
  {
   "cell_type": "code",
   "execution_count": 5,
   "id": "463084b0",
   "metadata": {},
   "outputs": [
    {
     "name": "stdout",
     "output_type": "stream",
     "text": [
      "Number of total pairs:\t\t184900\n",
      "Number of unconnected pairs:\t91671\n",
      "Percentage of unconnected pairs:\t49.57869118442401%\n"
     ]
    }
   ],
   "source": [
    "adj_matrix = nx.to_numpy_matrix(G, [str(i) for i in range(1, 431)])\n",
    "pairs = initial_node_count**2\n",
    "unconnected = set()\n",
    "row_num = 0\n",
    "for row in adj_matrix.A:\n",
    "    row_num += 1\n",
    "    column_num = 1\n",
    "    for cell in row:\n",
    "        if (column_num == row_num):\n",
    "            break\n",
    "        elif (cell == 0.):\n",
    "            unconnected.add((str(row_num), str(column_num)))\n",
    "        column_num += 1\n",
    "print('Number of total pairs:\\t\\t' + str(pairs))\n",
    "print('Number of unconnected pairs:\\t' + str(len(unconnected)))\n",
    "print('Percentage of unconnected pairs:\\t' + str((len(unconnected)/pairs*100)) + \"%\")"
   ]
  },
  {
   "cell_type": "markdown",
   "id": "154c2a8d",
   "metadata": {},
   "source": [
    "<li><B>1(iv).</B> Υπολογίστε το σύνολο των ακμών (removable edges) που μπορούν να αφαιρεθούν από τον γράφο χωρίς να υπάρχει κατάτμηση (splitting) του γράφου (δηλ. ο αριθμός των συνεκτικών συνιστωσών θα πρέπει να παραμένει αμετάβλητος). Υπόδειξη: Ελέγχετε επίσης ότι με αφαίρεση ακμής δεν μειώνεται ο αριθμός των κόμβων (εφόσον δεν υπάρχει ξεχωριστό αρχείο μόνο με κόμβους στο dataset). Δώστε επίσης τον αριθμό των ακμών (removable edges) που μπορούν να αφαιρεθούν υπό αυτές τις προϋποθέσεις.</li><BR>"
   ]
  },
  {
   "cell_type": "code",
   "execution_count": 6,
   "id": "b97959da",
   "metadata": {},
   "outputs": [
    {
     "name": "stdout",
     "output_type": "stream",
     "text": [
      "Number of removable edges:\t229\n"
     ]
    }
   ],
   "source": [
    "# removable edges: check splitting and number of nodes\n",
    "removable_edges = set()\n",
    "new_G = G.copy()\n",
    "for edge in G.edges():\n",
    "    Graph = new_G.copy()\n",
    "    Graph.remove_edge(*edge)\n",
    "    if (nx.number_connected_components(Graph) == initial_connected_components) and (len(Graph) == initial_node_count):\n",
    "        removable_edges.add(edge)\n",
    "        new_G.remove_edge(*edge)\n",
    "print(\"Number of removable edges:\\t\"+str(len(removable_edges)))"
   ]
  },
  {
   "cell_type": "markdown",
   "id": "eb03d745",
   "metadata": {},
   "source": [
    "<li><B>1(vα).</B> Κατασκευάστε dataframe που συνενώνει τις απαντήσεις των ερωτημάτων 1(iii) και 1(iv) (unconnected+removables). Χρησιμοποιήστε την μεταβλητή $link$ που θα παίρνει τιμή 1 ή 0 ανάλογα με την ύπαρξη συνδέσμου ή μη. To dataframe αυτό συγκεντρώνει τα θετικά και αρνητικά δείγματα για την πρόβλεψη των μελλοντικών συνδέσεων (link: target variable). <BR>\n",
    "    <li><B>1(vβ).</B> Κατασκευάστε τον γράφο $G'$ που προκύπτει από την αφαίρεση από τον γράφο $G$ των ακμών του ερωτήματος 1(iv). <BR>\n",
    "    <li><B>1(vγ).</B> Εμφανίστε τον αριθμό των κόμβων, τον αριθμό των ακμών, τον μέσο βαθμό των κόμβων και τον αριθμό των συνεκτικών συνιστωσών (connected components) για τον γράφο $G'$.</li><BR>"
   ]
  },
  {
   "cell_type": "code",
   "execution_count": 7,
   "id": "cb033fc0",
   "metadata": {},
   "outputs": [
    {
     "data": {
      "text/html": [
       "<div>\n",
       "<style scoped>\n",
       "    .dataframe tbody tr th:only-of-type {\n",
       "        vertical-align: middle;\n",
       "    }\n",
       "\n",
       "    .dataframe tbody tr th {\n",
       "        vertical-align: top;\n",
       "    }\n",
       "\n",
       "    .dataframe thead th {\n",
       "        text-align: right;\n",
       "    }\n",
       "</style>\n",
       "<table border=\"1\" class=\"dataframe\">\n",
       "  <thead>\n",
       "    <tr style=\"text-align: right;\">\n",
       "      <th></th>\n",
       "      <th>source</th>\n",
       "      <th>target</th>\n",
       "      <th>link</th>\n",
       "    </tr>\n",
       "  </thead>\n",
       "  <tbody>\n",
       "    <tr>\n",
       "      <th>0</th>\n",
       "      <td>186</td>\n",
       "      <td>188</td>\n",
       "      <td>1</td>\n",
       "    </tr>\n",
       "    <tr>\n",
       "      <th>1</th>\n",
       "      <td>149</td>\n",
       "      <td>150</td>\n",
       "      <td>1</td>\n",
       "    </tr>\n",
       "    <tr>\n",
       "      <th>2</th>\n",
       "      <td>68</td>\n",
       "      <td>99</td>\n",
       "      <td>1</td>\n",
       "    </tr>\n",
       "    <tr>\n",
       "      <th>3</th>\n",
       "      <td>149</td>\n",
       "      <td>151</td>\n",
       "      <td>1</td>\n",
       "    </tr>\n",
       "    <tr>\n",
       "      <th>4</th>\n",
       "      <td>336</td>\n",
       "      <td>342</td>\n",
       "      <td>1</td>\n",
       "    </tr>\n",
       "    <tr>\n",
       "      <th>...</th>\n",
       "      <td>...</td>\n",
       "      <td>...</td>\n",
       "      <td>...</td>\n",
       "    </tr>\n",
       "    <tr>\n",
       "      <th>91895</th>\n",
       "      <td>265</td>\n",
       "      <td>42</td>\n",
       "      <td>0</td>\n",
       "    </tr>\n",
       "    <tr>\n",
       "      <th>91896</th>\n",
       "      <td>371</td>\n",
       "      <td>216</td>\n",
       "      <td>0</td>\n",
       "    </tr>\n",
       "    <tr>\n",
       "      <th>91897</th>\n",
       "      <td>64</td>\n",
       "      <td>48</td>\n",
       "      <td>0</td>\n",
       "    </tr>\n",
       "    <tr>\n",
       "      <th>91898</th>\n",
       "      <td>372</td>\n",
       "      <td>217</td>\n",
       "      <td>0</td>\n",
       "    </tr>\n",
       "    <tr>\n",
       "      <th>91899</th>\n",
       "      <td>427</td>\n",
       "      <td>53</td>\n",
       "      <td>0</td>\n",
       "    </tr>\n",
       "  </tbody>\n",
       "</table>\n",
       "<p>91900 rows × 3 columns</p>\n",
       "</div>"
      ],
      "text/plain": [
       "      source target  link\n",
       "0        186    188     1\n",
       "1        149    150     1\n",
       "2         68     99     1\n",
       "3        149    151     1\n",
       "4        336    342     1\n",
       "...      ...    ...   ...\n",
       "91895    265     42     0\n",
       "91896    371    216     0\n",
       "91897     64     48     0\n",
       "91898    372    217     0\n",
       "91899    427     53     0\n",
       "\n",
       "[91900 rows x 3 columns]"
      ]
     },
     "execution_count": 7,
     "metadata": {},
     "output_type": "execute_result"
    }
   ],
   "source": [
    "#dataframe of removable edges (they will function as positive samples)\n",
    "df1 = pd.DataFrame(data=removable_edges, columns=['source','target'])\n",
    "df1 = df1.assign(link=1)\n",
    "\n",
    "#dataframe of unconnected node pairs (they will function as negative samples)\n",
    "df2 = pd.DataFrame(data=unconnected, columns=['source','target'])\n",
    "df2 = df2.assign(link=0)\n",
    "\n",
    "#merge in one dataframe\n",
    "df = df1.append(df2, ignore_index=True)\n",
    "df"
   ]
  },
  {
   "cell_type": "code",
   "execution_count": 8,
   "id": "a75eb2ff",
   "metadata": {},
   "outputs": [
    {
     "name": "stdout",
     "output_type": "stream",
     "text": [
      "Reduced:\n",
      "Number of Nodes:\t\t430\n",
      "Number of Edges:\t\t335\n",
      "Average Degree:\t\t1.558139534883721\n",
      "Number of Connected Components:\t95\n",
      "\n",
      "Initial:\n",
      "Number of Nodes:\t\t430\n",
      "Number of Edges:\t\t564\n",
      "Average Degree:\t\t2.6232558139534885\n",
      "Number of Connected Components:\t95\n"
     ]
    }
   ],
   "source": [
    "#build graph G'=G_reduced\n",
    "G_reduced = new_G\n",
    "print(\"Reduced:\")\n",
    "temp = stats(G_reduced)\n",
    "print()\n",
    "print(\"Initial:\")\n",
    "temp = stats(G)"
   ]
  },
  {
   "cell_type": "markdown",
   "id": "184eae57",
   "metadata": {},
   "source": [
    "<html><font size=4><B>2. Εισαγωγή σε similarity-based μετρικές για Link prediction</B></font><BR><BR>\n",
    "     <li> Η μετρική <B>Jaccard Coefficient (JC)</B> των κόμβων ${u}$ και ${v}$ ορίζεται ως $\\frac{|\\Gamma(u) \\cap \\Gamma(v)|}{|\\Gamma(u) \\cup \\Gamma(v)|}$, όπου ${\\Gamma(u)}$ είναι το σύνολο των γειτονικών κόμβων του κόμβου ${u}$.  <B></B>\n",
    "        <li> Η μετρική <B>Preferential Αttachment (PA)</B> των κόμβων $u$ και $v$ ορίζεται ως $|\\Gamma(u)| |\\Gamma(v)|$, όπου $\\Gamma(u)$ είναι το σύνολο των γειτονικών κόμβων του $u$.</li>\n",
    "        <li> Η μετρική <B>Resource Allocation (RA)</B> των κόμβων $u$ και $v$ ορίζεται ως $\\sum_{w \\in \\Gamma(u) \\cap \\Gamma(v)} \\frac{1}{|\\Gamma(w)|}$, όπου $\\Gamma(u)$ είναι το σύνολο των γειτονικών κόμβων του $u$.</li><BR><BR>\n",
    "    <li><B>2(i).</B> Για τον γράφο $G'$, που κατασκευάσατε στο ερώτημα 1(vβ), υπολογίστε την μετρική <B>Jaccard Coefficient (JC)</B>.  <u><a href=\"https://networkx.org/documentation/stable/reference/algorithms/link_prediction.html?highlight=link%20prediction\">Χρησιμοποιήστε την υλοποιημένη συνάρτηση του λογισμικού NetworkX.<a></u> <BR><BR>\n",
    "    <li><B>2(ii). </B>Δώστε τις $k$ ακμές με την υψηλότερη τιμή μετρικής $JC$, όπου $k$ ο $Α.Μ.$ σας $mod$ $10$. Για $Α.Μ.$ λήγοντα σε $0$ δώστε τις $10$ ακμές με την υψηλότερη τιμή μετρικής.\n",
    "        (Για την σύγκριση μεταξύ διαφορετικών μετρικών προτιμάται η εύρεση των $k$ επικρατέστερων συνδέσμων, αφού οι μετρικές επιστρέφουν διαφορετικό εύρος τιμών.)</li><BR>\n",
    "    <li><B>2(iii). </B>Προσδιορίστε για την μέτρηση της απόδοσης της μετρικής $JC$ τα μεγέθη $Precision$, $Recall$ και $Accuracy$ και αναπαραστήστε τα γραφικά για τιμές κατωφλίου: $0.1$, $0.15$, $0.25$, $0.5$, $1.0$.  <BR><BR>\n",
    "    $Precision=\\frac{TP}{TP+FP}$, όπου $TP$: αληθώς θετικά αποτελέσματα, $FP$: ψευδώς θετικά αποτελέσματα <BR>\n",
    "    $Recall=\\frac{TP}{TP+FN}$, όπου $TP$: αληθώς θετικά αποτελέσματα, $FN$: ψευδώς αρνητικά αποτελέσματα</li> \n",
    "    $Accuracy=\\frac{TP+TN}{TP+FN+TN+FP}$, όπου $TP$: αληθώς θετικά αποτελέσματα, $TN$: αληθώς αρνητικά αποτελέσματα, $FN$: ψευδώς αρνητικά αποτελέσματα, $FP$: ψευδώς θετικά αποτελέσματα</li><BR><BR>\n",
    "        <B><U>Υπόδειξη:</U></B>\n",
    "        Θετικό θεωρήστε ένα αποτέλεσμα, αν η μετρική $JC$ υπερβαίνει μια τιμή κατωφλίου (>=). Αρνητικό θεωρήστε το στην αντίθετη περίπτωση.\n",
    "        <li>Αληθώς θετικά είναι τα αποτελέσματα που βγήκαν θετικά (η τιμή της $JC$ υπερβαίνει την τιμή κατωφλίου) και πράγματι θα υπάρξουν οι συνδέσεις που περιγράφουν (ερ. 1(iv)).</li>\n",
    "        <li>Αληθώς αρνητικά είναι τα αποτελέσματα που βγήκαν αρνητικά και πράγματι δεν θα υπάρξουν οι συνδέσεις που περιγράφουν (ερ. 1(iii)).</li>\n",
    "        <li>Ψευδώς θετικά είναι τα αποτελέσματα που βγήκαν θετικά, ενώ δεν θα υπάρξουν οι συνδέσεις που περιγράφουν.</li>\n",
    "        <li>Ψευδώς αρνητικά είναι τα αποτελέσματα που βγήκαν αρνητικά, ενώ θα υπάρξουν οι συνδέσεις που περιγράφουν.</li>\n",
    "        <li>Το άθροισμα $TN+FP$ πρέπει κάθε φορά να σας δίνει όλες τις ασύνδετες ακμές του γράφου $G$.</li>   \n",
    "<li>Από το ερώτημα 1(iii) οι ακμές που υπολογίσατε είναι αυτές για τις οποίες δεν θα υπάρξουν συνδέσεις.</li> <li>Από το ερώτημα 1(iv) οι ακμές που υπολογίσατε είναι αυτές για τις οποίες θα υπάρξουν συνδέσεις.</li><BR></html>"
   ]
  },
  {
   "cell_type": "code",
   "execution_count": 9,
   "id": "dd63d134",
   "metadata": {},
   "outputs": [
    {
     "name": "stdout",
     "output_type": "stream",
     "text": [
      "9 Pairs with the greater JC metric value:\n",
      "('404', '399', 1.0)\n",
      "('404', '403', 1.0)\n",
      "('404', '401', 1.0)\n",
      "('235', '234', 1.0)\n",
      "('400', '402', 1.0)\n",
      "('400', '399', 1.0)\n",
      "('400', '403', 1.0)\n",
      "('400', '401', 1.0)\n",
      "('400', '404', 1.0)\n"
     ]
    }
   ],
   "source": [
    "jc_G_reduced = nx.algorithms.jaccard_coefficient(G_reduced)\n",
    "\n",
    "k=79%10\n",
    "\n",
    "k_greatest_jc = []\n",
    "for i in range(k):\n",
    "    k_greatest_jc.append(('','',-1))\n",
    "\n",
    "for i,j,l in jc_G_reduced:\n",
    "    if l > k_greatest_jc[0][2]:\n",
    "        k_greatest_jc[0] = (i,j,l)\n",
    "        k_greatest_jc = sorted(k_greatest_jc, key = lambda x : x[2])\n",
    "\n",
    "print(str(k) + ' Pairs with the greater JC metric value:')\n",
    "for i in k_greatest_jc:\n",
    "    print(i)"
   ]
  },
  {
   "cell_type": "code",
   "execution_count": 10,
   "id": "38e091f3",
   "metadata": {},
   "outputs": [],
   "source": [
    "def JCfunction(G, threshold_jc):\n",
    "    pos = []\n",
    "    neg = []\n",
    "\n",
    "    for u in range(G.number_of_nodes()):\n",
    "        for v in range(u+1, G.number_of_nodes()):\n",
    "            ebunch = [(str(u+1), str(v+1))]\n",
    "            jc = nx.algorithms.jaccard_coefficient(G,ebunch)\n",
    "            for x,y,p in jc:\n",
    "                if p >= threshold_jc:\n",
    "                    pos.append((x,y))\n",
    "                else:\n",
    "                    neg.append((x,y))\n",
    "                    \n",
    "    tp = []\n",
    "    fp = []\n",
    "    tn = []\n",
    "    fn = []\n",
    "\n",
    "    for u,v in pos:\n",
    "        if G.has_edge(u,v):\n",
    "            tp.append((u,v))\n",
    "        else:\n",
    "            fp.append((u,v))\n",
    "\n",
    "    for u,v in neg:\n",
    "        if G.has_edge(u,v):\n",
    "            fn.append((u,v))\n",
    "        else:\n",
    "            tn.append((u,v))\n",
    "\n",
    "    tp = len(tp)\n",
    "    fp = len(fp)\n",
    "    tn = len(tn)\n",
    "    fn = len(fn)\n",
    "    print(tp,fp,tn,fn)\n",
    "\n",
    "    jc_prec = tp/(tp+fp) \n",
    "    jc_rec = tp/(tp+fn) \n",
    "    jc_acc = (tp+tn)/(tp+tn+fp+fn)\n",
    "\n",
    "    return jc_prec,jc_rec, jc_acc"
   ]
  },
  {
   "cell_type": "code",
   "execution_count": 11,
   "id": "e04ca40e",
   "metadata": {},
   "outputs": [
    {
     "name": "stdout",
     "output_type": "stream",
     "text": [
      "Threshold = 0.1\n",
      "0 505 91395 335\n",
      "0.0 0.0 0.9908928281021304\n",
      "\n",
      "Threshold = 0.15\n",
      "0 487 91413 335\n",
      "0.0 0.0 0.9910879817856562\n",
      "\n",
      "Threshold = 0.25\n",
      "0 448 91452 335\n",
      "0.0 0.0 0.9915108147666287\n",
      "\n",
      "Threshold = 0.5\n",
      "0 331 91569 335\n",
      "0.0 0.0 0.9927793137095463\n",
      "\n",
      "Threshold = 1\n",
      "0 247 91653 335\n",
      "0.0 0.0 0.9936900308993333\n",
      "\n"
     ]
    }
   ],
   "source": [
    "thresholds = [0.1, 0.15, 0.25, 0.5, 1]\n",
    "jc_prec,jc_rec, jc_acc = [],[],[]\n",
    "\n",
    "for th in thresholds:\n",
    "    print(\"Threshold = \" + str(th))\n",
    "    prec, rec, acc = JCfunction(G_reduced, th)\n",
    "    print(prec, rec, acc)\n",
    "    jc_prec.append(prec)\n",
    "    jc_rec.append(rec)\n",
    "    jc_acc.append(acc)\n",
    "    print()"
   ]
  },
  {
   "cell_type": "code",
   "execution_count": 12,
   "id": "7f37a126",
   "metadata": {},
   "outputs": [
    {
     "data": {
      "image/png": "[encoded data removed]",
      "text/plain": [
       "<Figure size 432x288 with 1 Axes>"
      ]
     },
     "metadata": {
      "needs_background": "light"
     },
     "output_type": "display_data"
    }
   ],
   "source": [
    "jc_metrics = pd.DataFrame([jc_prec, jc_rec, jc_acc]).transpose()\n",
    "jc_metrics.rename(columns={0:'Precision', 1:'Recall', 2:'Accuracy'},\n",
    "                  index={0:'0.1', 1:'0.15', 2:'0.25', 3:'0.5', 4:'1'}, inplace=True)\n",
    "jc_metrics.plot()\n",
    "plt.xlabel('Threshold')\n",
    "plt.ylabel('Score')\n",
    "plt.title('JC-metric performance')\n",
    "plt.show()"
   ]
  },
  {
   "cell_type": "markdown",
   "id": "e240c881",
   "metadata": {},
   "source": [
    "#### Σχόλιο:\n",
    "Οι καμπύλες του Precision και του Recall ταυτίζονται στο μηδέν."
   ]
  },
  {
   "cell_type": "markdown",
   "id": "d432396f",
   "metadata": {},
   "source": [
    "<html><font size=4><B>3. Πρόβλεψη συνδέσμων βάσει similarity-based μετρικών</B></font>    \n",
    "        <li><B>3(i).</B> Προτείνετε μια τουλάχιστον μέθοδο, για να εξερευνήσουμε και να εκφράσουμε μέσα από τα πακέτα NumPy ή SciPy ή Pandas την συσχέτιση (correlation) μεταξύ των τιμών των μετρικών <B>Jaccard Coefficient</B>, <B>Preferential Attachment</B>, <B>Resource Allocation</B> για τον μειωμένο γράφο $G'$. Σημ.: Δεν χρειάζεται κάποια υλοποίηση, μόνο αναφορά της μεθόδου συσχέτισης και επεξήγηση της επιλογής σας.\n",
    "     <li><B>3(ii).</B> Εργαστείτε πάνω σε <B><U>αντίγραφο</U></B> του dataframe που κατασκευάσατε στο ερώτημα 1(vα) (unconnected+removables). Δημιουργήστε στήλη (column) με τις ακμές του γράφου και θέστε την ως index του dataframe. Στο dataframe θα προσθέσετε ως στήλες τις τιμές των μετρικών (<B>Jaccard Coefficient</B>, <B>Preferential Attachment</B>, <B>Resource Allocation</B>) για τον μειωμένο γράφο $G'$. Οι τιμές των μετρικών μπορούν να υπολογιστούν με τις συναρτήσεις του πακέτου NetworkX.</li>   </font></html>\n",
    "    \n",
    "    |       | link  |Jacc.Coeff.|Pr.Attachment| Resource Allocation|\n",
    "    |-------|-------|-----------|-------------|--------------------|\n",
    "    |(1, 6) |  0    |  0.333333 |     32      |    0.700000        |\n",
    "    |(1, 46)|  0    |  0.200000 |      8      |    0.166667        |"
   ]
  },
  {
   "cell_type": "markdown",
   "id": "ac61be91",
   "metadata": {},
   "source": [
    "#### 3(i)\n",
    "Αρχικά, θα υπολογίσουμε τις αντίστοιχες τιμές για κάθε μετρική και ύστη συνέχεια θα φτιάξουμε μια λίστα αποτελούμενη από τις τιμές της κάθε μετρικής με τα ζευγάρια των κόμβων του γράφου στην ίδια σειρά.Οπότε, με χρήση της συνάρτησης corrcoeff του πακέτου NumPy θα υπολογίσουμε τον συντελεστή συσχέτισης ανάμεσα σε κάθε μετρική και θα βρούμρ αν υπάρχει κάποια έντονη τάση συσχέτισης ανάμεσά τους.\n"
   ]
  },
  {
   "cell_type": "code",
   "execution_count": 13,
   "id": "7c40c8d6",
   "metadata": {},
   "outputs": [
    {
     "data": {
      "text/html": [
       "<div>\n",
       "<style scoped>\n",
       "    .dataframe tbody tr th:only-of-type {\n",
       "        vertical-align: middle;\n",
       "    }\n",
       "\n",
       "    .dataframe tbody tr th {\n",
       "        vertical-align: top;\n",
       "    }\n",
       "\n",
       "    .dataframe thead th {\n",
       "        text-align: right;\n",
       "    }\n",
       "</style>\n",
       "<table border=\"1\" class=\"dataframe\">\n",
       "  <thead>\n",
       "    <tr style=\"text-align: right;\">\n",
       "      <th></th>\n",
       "      <th>source</th>\n",
       "      <th>target</th>\n",
       "      <th>link</th>\n",
       "    </tr>\n",
       "  </thead>\n",
       "  <tbody>\n",
       "    <tr>\n",
       "      <th>0</th>\n",
       "      <td>186</td>\n",
       "      <td>188</td>\n",
       "      <td>1</td>\n",
       "    </tr>\n",
       "    <tr>\n",
       "      <th>1</th>\n",
       "      <td>149</td>\n",
       "      <td>150</td>\n",
       "      <td>1</td>\n",
       "    </tr>\n",
       "    <tr>\n",
       "      <th>2</th>\n",
       "      <td>68</td>\n",
       "      <td>99</td>\n",
       "      <td>1</td>\n",
       "    </tr>\n",
       "    <tr>\n",
       "      <th>3</th>\n",
       "      <td>149</td>\n",
       "      <td>151</td>\n",
       "      <td>1</td>\n",
       "    </tr>\n",
       "    <tr>\n",
       "      <th>4</th>\n",
       "      <td>336</td>\n",
       "      <td>342</td>\n",
       "      <td>1</td>\n",
       "    </tr>\n",
       "    <tr>\n",
       "      <th>...</th>\n",
       "      <td>...</td>\n",
       "      <td>...</td>\n",
       "      <td>...</td>\n",
       "    </tr>\n",
       "    <tr>\n",
       "      <th>91895</th>\n",
       "      <td>265</td>\n",
       "      <td>42</td>\n",
       "      <td>0</td>\n",
       "    </tr>\n",
       "    <tr>\n",
       "      <th>91896</th>\n",
       "      <td>371</td>\n",
       "      <td>216</td>\n",
       "      <td>0</td>\n",
       "    </tr>\n",
       "    <tr>\n",
       "      <th>91897</th>\n",
       "      <td>64</td>\n",
       "      <td>48</td>\n",
       "      <td>0</td>\n",
       "    </tr>\n",
       "    <tr>\n",
       "      <th>91898</th>\n",
       "      <td>372</td>\n",
       "      <td>217</td>\n",
       "      <td>0</td>\n",
       "    </tr>\n",
       "    <tr>\n",
       "      <th>91899</th>\n",
       "      <td>427</td>\n",
       "      <td>53</td>\n",
       "      <td>0</td>\n",
       "    </tr>\n",
       "  </tbody>\n",
       "</table>\n",
       "<p>91900 rows × 3 columns</p>\n",
       "</div>"
      ],
      "text/plain": [
       "      source target  link\n",
       "0        186    188     1\n",
       "1        149    150     1\n",
       "2         68     99     1\n",
       "3        149    151     1\n",
       "4        336    342     1\n",
       "...      ...    ...   ...\n",
       "91895    265     42     0\n",
       "91896    371    216     0\n",
       "91897     64     48     0\n",
       "91898    372    217     0\n",
       "91899    427     53     0\n",
       "\n",
       "[91900 rows x 3 columns]"
      ]
     },
     "execution_count": 13,
     "metadata": {},
     "output_type": "execute_result"
    }
   ],
   "source": [
    "#replicate of the dataframe \"unconnected+removables\"---dataframe will be used again in (4)\n",
    "df_copy = df.copy()\n",
    "df_copy"
   ]
  },
  {
   "cell_type": "code",
   "execution_count": 14,
   "id": "26b7cc9a",
   "metadata": {},
   "outputs": [
    {
     "data": {
      "text/html": [
       "<div>\n",
       "<style scoped>\n",
       "    .dataframe tbody tr th:only-of-type {\n",
       "        vertical-align: middle;\n",
       "    }\n",
       "\n",
       "    .dataframe tbody tr th {\n",
       "        vertical-align: top;\n",
       "    }\n",
       "\n",
       "    .dataframe thead th {\n",
       "        text-align: right;\n",
       "    }\n",
       "</style>\n",
       "<table border=\"1\" class=\"dataframe\">\n",
       "  <thead>\n",
       "    <tr style=\"text-align: right;\">\n",
       "      <th></th>\n",
       "      <th>source</th>\n",
       "      <th>target</th>\n",
       "      <th>link</th>\n",
       "    </tr>\n",
       "    <tr>\n",
       "      <th>index</th>\n",
       "      <th></th>\n",
       "      <th></th>\n",
       "      <th></th>\n",
       "    </tr>\n",
       "  </thead>\n",
       "  <tbody>\n",
       "    <tr>\n",
       "      <th>(186,188)</th>\n",
       "      <td>186</td>\n",
       "      <td>188</td>\n",
       "      <td>1</td>\n",
       "    </tr>\n",
       "    <tr>\n",
       "      <th>(149,150)</th>\n",
       "      <td>149</td>\n",
       "      <td>150</td>\n",
       "      <td>1</td>\n",
       "    </tr>\n",
       "    <tr>\n",
       "      <th>(68,99)</th>\n",
       "      <td>68</td>\n",
       "      <td>99</td>\n",
       "      <td>1</td>\n",
       "    </tr>\n",
       "    <tr>\n",
       "      <th>(149,151)</th>\n",
       "      <td>149</td>\n",
       "      <td>151</td>\n",
       "      <td>1</td>\n",
       "    </tr>\n",
       "    <tr>\n",
       "      <th>(336,342)</th>\n",
       "      <td>336</td>\n",
       "      <td>342</td>\n",
       "      <td>1</td>\n",
       "    </tr>\n",
       "    <tr>\n",
       "      <th>...</th>\n",
       "      <td>...</td>\n",
       "      <td>...</td>\n",
       "      <td>...</td>\n",
       "    </tr>\n",
       "    <tr>\n",
       "      <th>(265,42)</th>\n",
       "      <td>265</td>\n",
       "      <td>42</td>\n",
       "      <td>0</td>\n",
       "    </tr>\n",
       "    <tr>\n",
       "      <th>(371,216)</th>\n",
       "      <td>371</td>\n",
       "      <td>216</td>\n",
       "      <td>0</td>\n",
       "    </tr>\n",
       "    <tr>\n",
       "      <th>(64,48)</th>\n",
       "      <td>64</td>\n",
       "      <td>48</td>\n",
       "      <td>0</td>\n",
       "    </tr>\n",
       "    <tr>\n",
       "      <th>(372,217)</th>\n",
       "      <td>372</td>\n",
       "      <td>217</td>\n",
       "      <td>0</td>\n",
       "    </tr>\n",
       "    <tr>\n",
       "      <th>(427,53)</th>\n",
       "      <td>427</td>\n",
       "      <td>53</td>\n",
       "      <td>0</td>\n",
       "    </tr>\n",
       "  </tbody>\n",
       "</table>\n",
       "<p>91900 rows × 3 columns</p>\n",
       "</div>"
      ],
      "text/plain": [
       "          source target  link\n",
       "index                        \n",
       "(186,188)    186    188     1\n",
       "(149,150)    149    150     1\n",
       "(68,99)       68     99     1\n",
       "(149,151)    149    151     1\n",
       "(336,342)    336    342     1\n",
       "...          ...    ...   ...\n",
       "(265,42)     265     42     0\n",
       "(371,216)    371    216     0\n",
       "(64,48)       64     48     0\n",
       "(372,217)    372    217     0\n",
       "(427,53)     427     53     0\n",
       "\n",
       "[91900 rows x 3 columns]"
      ]
     },
     "execution_count": 14,
     "metadata": {},
     "output_type": "execute_result"
    }
   ],
   "source": [
    "df_copy['index'] =  \"(\" + df_copy['source'].astype(str) + \",\" + df_copy['target'].astype(str) + \")\"\n",
    "df_copy.set_index('index', inplace=True)\n",
    "df_copy"
   ]
  },
  {
   "cell_type": "code",
   "execution_count": 15,
   "id": "bd13f5db",
   "metadata": {},
   "outputs": [],
   "source": [
    "# functions to calculate metrics for two nodes in the same row of the dataframe\n",
    "def jc_calculation(G, row):\n",
    "    u = str(row['source'])\n",
    "    v = str(row['target'])\n",
    "    jc_generator = nx.algorithms.jaccard_coefficient(G,[(u,v)])\n",
    "    for x,y,s in jc_generator:\n",
    "        jc_score = s\n",
    "    return jc_score\n",
    "\n",
    "\n",
    "def pa_calculation(G, row):\n",
    "    u = str(row['source'])\n",
    "    v = str(row['target'])\n",
    "    jc_generator = nx.algorithms.preferential_attachment(G,[(u,v)])\n",
    "    for x,y,s in jc_generator:\n",
    "        jc_score = s\n",
    "    return jc_score\n",
    "\n",
    "def ra_calculation(G, row):\n",
    "    u = str(row['source'])\n",
    "    v = str(row['target'])\n",
    "    jc_generator = nx.algorithms.resource_allocation_index(G,[(u,v)])\n",
    "    for x,y,s in jc_generator:\n",
    "        jc_score = s\n",
    "    return jc_score\n",
    "\n",
    "df_copy['Jacc.Coeff.'] = df_copy.apply(lambda row: jc_calculation(G_reduced, row), axis=1)\n",
    "df_copy['Pr.Attachment'] = df_copy.apply(lambda row: pa_calculation(G_reduced, row), axis=1)\n",
    "df_copy['Resource Allocation'] = df_copy.apply(lambda row: ra_calculation(G_reduced, row), axis=1)\n"
   ]
  },
  {
   "cell_type": "code",
   "execution_count": 16,
   "id": "6309344f",
   "metadata": {},
   "outputs": [
    {
     "data": {
      "text/html": [
       "<div>\n",
       "<style scoped>\n",
       "    .dataframe tbody tr th:only-of-type {\n",
       "        vertical-align: middle;\n",
       "    }\n",
       "\n",
       "    .dataframe tbody tr th {\n",
       "        vertical-align: top;\n",
       "    }\n",
       "\n",
       "    .dataframe thead th {\n",
       "        text-align: right;\n",
       "    }\n",
       "</style>\n",
       "<table border=\"1\" class=\"dataframe\">\n",
       "  <thead>\n",
       "    <tr style=\"text-align: right;\">\n",
       "      <th></th>\n",
       "      <th>link</th>\n",
       "      <th>Jacc.Coeff.</th>\n",
       "      <th>Pr.Attachment</th>\n",
       "      <th>Resource Allocation</th>\n",
       "    </tr>\n",
       "    <tr>\n",
       "      <th>index</th>\n",
       "      <th></th>\n",
       "      <th></th>\n",
       "      <th></th>\n",
       "      <th></th>\n",
       "    </tr>\n",
       "  </thead>\n",
       "  <tbody>\n",
       "    <tr>\n",
       "      <th>(186,188)</th>\n",
       "      <td>1</td>\n",
       "      <td>0.0</td>\n",
       "      <td>1</td>\n",
       "      <td>0.000000</td>\n",
       "    </tr>\n",
       "    <tr>\n",
       "      <th>(149,150)</th>\n",
       "      <td>1</td>\n",
       "      <td>0.5</td>\n",
       "      <td>2</td>\n",
       "      <td>0.250000</td>\n",
       "    </tr>\n",
       "    <tr>\n",
       "      <th>(68,99)</th>\n",
       "      <td>1</td>\n",
       "      <td>0.0</td>\n",
       "      <td>2</td>\n",
       "      <td>0.000000</td>\n",
       "    </tr>\n",
       "    <tr>\n",
       "      <th>(149,151)</th>\n",
       "      <td>1</td>\n",
       "      <td>0.0</td>\n",
       "      <td>1</td>\n",
       "      <td>0.000000</td>\n",
       "    </tr>\n",
       "    <tr>\n",
       "      <th>(336,342)</th>\n",
       "      <td>1</td>\n",
       "      <td>1.0</td>\n",
       "      <td>1</td>\n",
       "      <td>0.066667</td>\n",
       "    </tr>\n",
       "    <tr>\n",
       "      <th>...</th>\n",
       "      <td>...</td>\n",
       "      <td>...</td>\n",
       "      <td>...</td>\n",
       "      <td>...</td>\n",
       "    </tr>\n",
       "    <tr>\n",
       "      <th>(265,42)</th>\n",
       "      <td>0</td>\n",
       "      <td>0.0</td>\n",
       "      <td>2</td>\n",
       "      <td>0.000000</td>\n",
       "    </tr>\n",
       "    <tr>\n",
       "      <th>(371,216)</th>\n",
       "      <td>0</td>\n",
       "      <td>0.0</td>\n",
       "      <td>1</td>\n",
       "      <td>0.000000</td>\n",
       "    </tr>\n",
       "    <tr>\n",
       "      <th>(64,48)</th>\n",
       "      <td>0</td>\n",
       "      <td>0.0</td>\n",
       "      <td>6</td>\n",
       "      <td>0.000000</td>\n",
       "    </tr>\n",
       "    <tr>\n",
       "      <th>(372,217)</th>\n",
       "      <td>0</td>\n",
       "      <td>0.0</td>\n",
       "      <td>1</td>\n",
       "      <td>0.000000</td>\n",
       "    </tr>\n",
       "    <tr>\n",
       "      <th>(427,53)</th>\n",
       "      <td>0</td>\n",
       "      <td>0.0</td>\n",
       "      <td>1</td>\n",
       "      <td>0.000000</td>\n",
       "    </tr>\n",
       "  </tbody>\n",
       "</table>\n",
       "<p>91900 rows × 4 columns</p>\n",
       "</div>"
      ],
      "text/plain": [
       "           link  Jacc.Coeff.  Pr.Attachment  Resource Allocation\n",
       "index                                                           \n",
       "(186,188)     1          0.0              1             0.000000\n",
       "(149,150)     1          0.5              2             0.250000\n",
       "(68,99)       1          0.0              2             0.000000\n",
       "(149,151)     1          0.0              1             0.000000\n",
       "(336,342)     1          1.0              1             0.066667\n",
       "...         ...          ...            ...                  ...\n",
       "(265,42)      0          0.0              2             0.000000\n",
       "(371,216)     0          0.0              1             0.000000\n",
       "(64,48)       0          0.0              6             0.000000\n",
       "(372,217)     0          0.0              1             0.000000\n",
       "(427,53)      0          0.0              1             0.000000\n",
       "\n",
       "[91900 rows x 4 columns]"
      ]
     },
     "execution_count": 16,
     "metadata": {},
     "output_type": "execute_result"
    }
   ],
   "source": [
    "df_copy.drop(['source', 'target'], axis=1, inplace=True)\n",
    "df_copy"
   ]
  },
  {
   "cell_type": "markdown",
   "id": "76f9318d",
   "metadata": {},
   "source": [
    "<li><B>3(iiiα).</B> Χρησιμοποιήστε τον Random Forest Classifier και το αντίγραφο dataframe που κατασκευάσατε στο ερώτημα 3(ii), για να προβλέψετε συνδέσεις. Συμπληρώστε στον κώδικα: τα features ($X$), την target variable ($y$) και τα ορίσματα της συνάρτησης $fit$ για το training του μοντέλου.</li>\n",
    "<li><B>3(iiiβ).</B> Δώστε τις ($A.M$ $mod$ $10$) πρώτες προβλέψεις και την ακρίβεια ($accuracy$) του μοντέλου. </li>\n",
    "<li><B>3(iiiγ).</B>Υπολογίστε την πιθανότητα να συνδεθούν οι κόμβοι ($1$,$47$) βάσει του μοντέλου σας. </li>  "
   ]
  },
  {
   "cell_type": "code",
   "execution_count": 17,
   "id": "df4a65f5",
   "metadata": {},
   "outputs": [],
   "source": [
    "from sklearn.model_selection import train_test_split\n",
    "from sklearn.ensemble import RandomForestClassifier\n",
    "from sklearn.metrics import accuracy_score\n",
    "from sklearn.model_selection import GridSearchCV\n",
    " \n",
    "X = df_copy.drop('link',axis=1)  #features, uncomment and complete\n",
    "y = df_copy['link'] #target, uncomment and complete\n",
    "\n",
    "X_train, X_test, y_train, y_test = train_test_split(X,y, random_state = 0) #uncomment and complete"
   ]
  },
  {
   "cell_type": "code",
   "execution_count": 18,
   "id": "26affc3a",
   "metadata": {},
   "outputs": [],
   "source": [
    "classifier = RandomForestClassifier()   \n",
    "\n",
    "from sklearn.preprocessing import MinMaxScaler \n",
    "mm_scaler = MinMaxScaler() \n",
    "X_train_scaled = mm_scaler.fit_transform(X_train)\n",
    "X_test_scaled = mm_scaler.transform(X_test)\n",
    "\n",
    "parameters = {'n_estimators' : [10,50,100], 'max_depth' : [5,10,15]} \n",
    "model = GridSearchCV(classifier, param_grid = parameters) "
   ]
  },
  {
   "cell_type": "code",
   "execution_count": 19,
   "id": "431e2d35",
   "metadata": {},
   "outputs": [
    {
     "data": {
      "text/plain": [
       "GridSearchCV(estimator=RandomForestClassifier(),\n",
       "             param_grid={'max_depth': [5, 10, 15],\n",
       "                         'n_estimators': [10, 50, 100]})"
      ]
     },
     "execution_count": 19,
     "metadata": {},
     "output_type": "execute_result"
    }
   ],
   "source": [
    "model.fit(X_train_scaled, y_train.values.ravel())#train the model, uncomment and complete"
   ]
  },
  {
   "cell_type": "code",
   "execution_count": 20,
   "id": "1b075584",
   "metadata": {},
   "outputs": [
    {
     "name": "stdout",
     "output_type": "stream",
     "text": [
      "First 9 predictions:\n",
      "[0 0 0 0 0 0 0 0 0]\n",
      "\n",
      "First 9 true values:\n",
      "index\n",
      "(377,326)    0\n",
      "(362,287)    0\n",
      "(288,87)     0\n",
      "(402,149)    0\n",
      "(394,336)    0\n",
      "(315,182)    0\n",
      "(351,115)    0\n",
      "(277,106)    0\n",
      "(420,157)    0\n",
      "Name: link, dtype: int64\n",
      "\n",
      "Accuracy score:\t\t0.998955386289445\n"
     ]
    }
   ],
   "source": [
    "predictions = model.predict(X_test_scaled)\n",
    "print('First 9 predictions:')\n",
    "print(predictions[:9]) #get (A.M. last digit) first predictions\n",
    "print()\n",
    "print('First 9 true values:')\n",
    "print(y_test[:9])\n",
    "print()\n",
    "accuracy = accuracy_score(y_test, predictions)\n",
    "\n",
    "print('Accuracy score:\\t\\t' + str(accuracy))"
   ]
  },
  {
   "cell_type": "code",
   "execution_count": 21,
   "id": "3d7cd800",
   "metadata": {},
   "outputs": [
    {
     "name": "stdout",
     "output_type": "stream",
     "text": [
      "Propability that nodes (1, 47) are connected:\t0.042042157620277104\n"
     ]
    }
   ],
   "source": [
    "# create a dataset with only (1,47) and calculate values to use it with our model\n",
    "\n",
    "jc_gen = nx.algorithms.jaccard_coefficient(G,[('1','47')])\n",
    "for x,y,s in jc_gen:\n",
    "    jc_score = s\n",
    "    \n",
    "pa_gen = nx.algorithms.preferential_attachment(G,[('1','47')])\n",
    "for x,y,s in pa_gen:\n",
    "    pa_score = s\n",
    "\n",
    "ra_gen = nx.algorithms.resource_allocation_index(G,[('1','47')])\n",
    "for x,y,s in ra_gen:\n",
    "    ra_score = s\n",
    "\n",
    "data = {'Jacc.Coeff.':[jc_score], 'Pr.Attachment':[pa_score], 'Resource Allocation':[ra_score]}\n",
    "X_prob = pd.DataFrame(data, index=['(1,47)'])\n",
    "X_prob_sc = mm_scaler.transform(X_prob)\n",
    "predict_proba = model.predict_proba((X_prob_sc))\n",
    "print('Propability that nodes (1, 47) are connected:\\t' + str(predict_proba[0][1]))"
   ]
  },
  {
   "cell_type": "markdown",
   "id": "f4c43988",
   "metadata": {},
   "source": [
    "<html><font size=4><B>4. Πρόβλεψη συνδέσμων με embedding βασισμένο σε τυχαίους περιπάτους (Random Walks) </B></font><BR><BR>\n",
    "    <li><B>4(i).</B> Εξάγετε τα χαρακτηριστικά (features) του γράφου $G'$, που προέκυψε από την αφαίρεση των ακμών. Για τον σκοπό αυτό χρησιμοποιήστε τον αλγόριθμο <B>Node2vec</B> <a href=\"https://cs.stanford.edu/~jure/pubs/node2vec-kdd16.pdf\">[3]</a>. Ο αλγόριθμος αντιστοιχίζει τους κόμβους του γράφου μέσω τυχαίων περιπάτων (biased 2nd order random walks) σε ένα χώρο μικρού αριθμού διαστάσεων (low dimensional space) διατηρώντας την μεταξύ τους γειτνίαση.\n",
    "        <BR>Για την επιλογή των παραμέτρων: \n",
    "            <li>p - παράμετρος τυχαίων περιπάτων p που καθορίζει την πιθανότητα “1/p” επιστροφής στον κόμβο προέλευσης (source node), </li>\n",
    "                <li>q - παράμετρος τυχαίων περιπάτων q που καθορίζει την πιθανότητα  “1/q” μετακίνησης σε κόμβο μακριά από τον κόμβο προέλευσης (source node), </li>\n",
    "                 <li>dimensions - πλήθος διαστάσεων των Node2Vec embeddings, </li>\n",
    "                     <li>num_walks - αριθμός περιπάτων από κάθε κόμβο, </li>\n",
    "                         <li>walk_length - μήκος τυχαίου περιπάτου, </li>\n",
    "                             <li>window_size - μέγεθος παραθύρου context για τον αλγόριθμο Word2Vec, </li><li>num_iter - αριθμός SGD επαναλήψεων (epochs), </li>\n",
    "            <li>workers - αριθμός workers για τον Word2Vec,</li>\n",
    "            χρησιμοποιήστε τις τιμές:   </html>\n",
    "   \n",
    "                   "
   ]
  },
  {
   "cell_type": "markdown",
   "id": "fdbc5274",
   "metadata": {},
   "source": [
    " |   p   |   q   | dimensions|  num_walks  |walk_length |window_size|        workers            |\n",
    " |-------|-------|-----------|-------------|------------|-----------|---------------------------|\n",
    " |  1.0  |  1.0  |  128      |     10      |    80      |     10    |multiprocessing.cpu_count()|"
   ]
  },
  {
   "cell_type": "code",
   "execution_count": 22,
   "id": "aa8e668d",
   "metadata": {},
   "outputs": [
    {
     "name": "stdout",
     "output_type": "stream",
     "text": [
      "Requirement already satisfied: node2vec in /home/tasos/anaconda3/lib/python3.8/site-packages (0.4.6)\n",
      "Requirement already satisfied: tqdm<5.0.0,>=4.55.1 in /home/tasos/anaconda3/lib/python3.8/site-packages (from node2vec) (4.59.0)\n",
      "Requirement already satisfied: joblib<2.0.0,>=1.1.0 in /home/tasos/anaconda3/lib/python3.8/site-packages (from node2vec) (1.2.0)\n",
      "Requirement already satisfied: numpy<2.0.0,>=1.19.5 in /home/tasos/anaconda3/lib/python3.8/site-packages (from node2vec) (1.22.4)\n",
      "Requirement already satisfied: networkx<3.0,>=2.5 in /home/tasos/anaconda3/lib/python3.8/site-packages (from node2vec) (2.8.8)\n",
      "Requirement already satisfied: gensim<5.0.0,>=4.1.2 in /home/tasos/anaconda3/lib/python3.8/site-packages (from node2vec) (4.3.0)\n",
      "Requirement already satisfied: FuzzyTM>=0.4.0 in /home/tasos/anaconda3/lib/python3.8/site-packages (from gensim<5.0.0,>=4.1.2->node2vec) (2.0.5)\n",
      "Requirement already satisfied: smart-open>=1.8.1 in /home/tasos/anaconda3/lib/python3.8/site-packages (from gensim<5.0.0,>=4.1.2->node2vec) (6.3.0)\n",
      "Requirement already satisfied: scipy>=1.7.0 in /home/tasos/anaconda3/lib/python3.8/site-packages (from gensim<5.0.0,>=4.1.2->node2vec) (1.9.3)\n",
      "Requirement already satisfied: pandas in /home/tasos/anaconda3/lib/python3.8/site-packages (from FuzzyTM>=0.4.0->gensim<5.0.0,>=4.1.2->node2vec) (1.2.4)\n",
      "Requirement already satisfied: pyfume in /home/tasos/anaconda3/lib/python3.8/site-packages (from FuzzyTM>=0.4.0->gensim<5.0.0,>=4.1.2->node2vec) (0.2.25)\n",
      "Requirement already satisfied: python-dateutil>=2.7.3 in /home/tasos/anaconda3/lib/python3.8/site-packages (from pandas->FuzzyTM>=0.4.0->gensim<5.0.0,>=4.1.2->node2vec) (2.8.1)\n",
      "Requirement already satisfied: pytz>=2017.3 in /home/tasos/anaconda3/lib/python3.8/site-packages (from pandas->FuzzyTM>=0.4.0->gensim<5.0.0,>=4.1.2->node2vec) (2021.1)\n",
      "Requirement already satisfied: six>=1.5 in /home/tasos/anaconda3/lib/python3.8/site-packages (from python-dateutil>=2.7.3->pandas->FuzzyTM>=0.4.0->gensim<5.0.0,>=4.1.2->node2vec) (1.15.0)\n",
      "Requirement already satisfied: simpful in /home/tasos/anaconda3/lib/python3.8/site-packages (from pyfume->FuzzyTM>=0.4.0->gensim<5.0.0,>=4.1.2->node2vec) (2.9.0)\n",
      "Requirement already satisfied: fst-pso in /home/tasos/anaconda3/lib/python3.8/site-packages (from pyfume->FuzzyTM>=0.4.0->gensim<5.0.0,>=4.1.2->node2vec) (1.8.1)\n",
      "Requirement already satisfied: miniful in /home/tasos/anaconda3/lib/python3.8/site-packages (from fst-pso->pyfume->FuzzyTM>=0.4.0->gensim<5.0.0,>=4.1.2->node2vec) (0.0.6)\n",
      "Requirement already satisfied: requests in /home/tasos/anaconda3/lib/python3.8/site-packages (from simpful->pyfume->FuzzyTM>=0.4.0->gensim<5.0.0,>=4.1.2->node2vec) (2.25.1)\n",
      "Requirement already satisfied: urllib3<1.27,>=1.21.1 in /home/tasos/anaconda3/lib/python3.8/site-packages (from requests->simpful->pyfume->FuzzyTM>=0.4.0->gensim<5.0.0,>=4.1.2->node2vec) (1.26.4)\n",
      "Requirement already satisfied: chardet<5,>=3.0.2 in /home/tasos/anaconda3/lib/python3.8/site-packages (from requests->simpful->pyfume->FuzzyTM>=0.4.0->gensim<5.0.0,>=4.1.2->node2vec) (4.0.0)\n",
      "Requirement already satisfied: certifi>=2017.4.17 in /home/tasos/anaconda3/lib/python3.8/site-packages (from requests->simpful->pyfume->FuzzyTM>=0.4.0->gensim<5.0.0,>=4.1.2->node2vec) (2020.12.5)\n",
      "Requirement already satisfied: idna<3,>=2.5 in /home/tasos/anaconda3/lib/python3.8/site-packages (from requests->simpful->pyfume->FuzzyTM>=0.4.0->gensim<5.0.0,>=4.1.2->node2vec) (2.10)\n"
     ]
    }
   ],
   "source": [
    "#install node2vec with conda / pip\n",
    "!pip install node2vec \n",
    "from node2vec import Node2Vec   \n",
    "import multiprocessing          "
   ]
  },
  {
   "cell_type": "code",
   "execution_count": 23,
   "id": "5bc4cfa1",
   "metadata": {},
   "outputs": [
    {
     "data": {
      "application/vnd.jupyter.widget-view+json": {
       "model_id": "2c9c3a7f0c1c4a15ba1166ef939c0283",
       "version_major": 2,
       "version_minor": 0
      },
      "text/plain": [
       "Computing transition probabilities:   0%|          | 0/430 [00:00<?, ?it/s]"
      ]
     },
     "metadata": {},
     "output_type": "display_data"
    }
   ],
   "source": [
    "#generate walks\n",
    "workers = multiprocessing.cpu_count()\n",
    "node2vec_walker = Node2Vec(G_reduced, 128, 80, 10, 1.0, 1.0, workers=workers) #uncomment and complete"
   ]
  },
  {
   "cell_type": "code",
   "execution_count": 24,
   "id": "8b3f479e",
   "metadata": {},
   "outputs": [],
   "source": [
    "#train node2vec model\n",
    "n2v_model = node2vec_walker.fit(window=10, min_count=1) #uncomment and complete"
   ]
  },
  {
   "cell_type": "markdown",
   "id": "294f0aab",
   "metadata": {},
   "source": [
    "<html><font>\n",
    "    <li><B>4(ii).</B> Εφαρμόστε τον αλγόριθμο Random Forest Classifier, για να προβλέψετε τις συνδέσεις.</li><BR>\n",
    "    <li><B>4(iii).</B> Υπολογίστε την ακρίβεια ($accuracy$) του μοντέλου. </li><BR></font></html>"
   ]
  },
  {
   "cell_type": "code",
   "execution_count": 25,
   "id": "6269b89a",
   "metadata": {},
   "outputs": [],
   "source": [
    "#apply trained Node2Vec model on each node pair of the dataframe \"unconnected+removables\"\n",
    "#uncomment:\n",
    "X = [(n2v_model.wv[str(i)]+n2v_model.wv[str(j)]) for i,j in zip(df['source'], df['target'])]\n",
    "y = df['link']"
   ]
  },
  {
   "cell_type": "code",
   "execution_count": 26,
   "id": "b74e7aa7",
   "metadata": {},
   "outputs": [],
   "source": [
    "X_train, X_test, y_train, y_test = train_test_split(X,y, random_state = 0)  #uncomment and complete"
   ]
  },
  {
   "cell_type": "code",
   "execution_count": 27,
   "id": "e75cfde7",
   "metadata": {},
   "outputs": [
    {
     "name": "stdout",
     "output_type": "stream",
     "text": [
      "Model's Accuracy with Node2Vec algorithm: 0.9988683351468988\n"
     ]
    }
   ],
   "source": [
    "from sklearn.ensemble import RandomForestClassifier\n",
    "from sklearn.metrics import accuracy_score\n",
    "\n",
    "classifier = RandomForestClassifier(max_depth=2, random_state=0) \n",
    "classifier.fit(X_train, y_train) #uncomment and complete\n",
    "predicts = classifier.predict(X_test)\n",
    "accur = accuracy_score(y_test, predicts)\n",
    "\n",
    "print(\"Model's Accuracy with Node2Vec algorithm:\" + \" \" + str(accur))"
   ]
  },
  {
   "cell_type": "markdown",
   "id": "a0c0b3bb",
   "metadata": {},
   "source": [
    "<html><font size=4> <B><U>Ερώτηση bonus (+10/100)</U><B>: </font>Για τους binary operators για learning των edge features με τον αλγόριθμο Node2Vec που αναφέρονται στο <a href=\"https://cs.stanford.edu/~jure/pubs/node2vec-kdd16.pdf\">[3]</a> ((α) Average, (β) Hadamard, (γ) Weighted-L1 και (δ) Weighted-L2) τροποποιήστε τoν κώδικά σας και σημειώστε τις παρατηρήσεις σας ως προς την απόδοση του αλγορίθμου.</font></html>"
   ]
  },
  {
   "cell_type": "markdown",
   "id": "8da3a402",
   "metadata": {},
   "source": [
    "<html><font size=4><B><U>Βιβλιογραφία:</U></B><BR></font>\n",
    "<a href=\"https://dl.acm.org/doi/10.1145/2487788.2488173\">[1]\tJérôme Kunegis. KONECT – The Koblenz Network Collection. In Proc. Int. Conf. on World Wide Web Companion, pages 1343–1350, 2013.</a><BR>\n",
    "<a href=\"https://link.springer.com/chapter/10.1007/978-3-540-76298-0_52\">[2]\tSören Auer, Christian Bizer, Georgi Kobilarov, Jens Lehmann, Richard Cyganiak, and Zachary Ives. DBpedia: A nucleus for a web of open data. In Proc. Int. Semant. Web Conf., pages 722–735, 2008.<BR>\n",
    "<a href=\"https://cs.stanford.edu/~jure/pubs/node2vec-kdd16.pdf\">[3] A. Grover, J. Leskovec, Node2vec: Scalable Feature Learning for Networks. ACM KDD, 2016.</a><BR>\n",
    " <a href=\"https://proceedings.neurips.cc/paper/2013/file/9aa42b31882ec039965f3c4923ce901b-Paper.pdf\">[4] T.Mikolov, I.Sutskever, K.Chen, G.S.Corrado and J.Dean, Distributed representations of words and phrases and their compositionality. In NIPS, 2013.</a><BR></font></html>"
   ]
  }
 ],
 "metadata": {
  "kernelspec": {
   "display_name": "Python 3",
   "language": "python",
   "name": "python3"
  },
  "language_info": {
   "codemirror_mode": {
    "name": "ipython",
    "version": 3
   },
   "file_extension": ".py",
   "mimetype": "text/x-python",
   "name": "python",
   "nbconvert_exporter": "python",
   "pygments_lexer": "ipython3",
   "version": "3.8.8"
  }
 },
 "nbformat": 4,
 "nbformat_minor": 5
}
